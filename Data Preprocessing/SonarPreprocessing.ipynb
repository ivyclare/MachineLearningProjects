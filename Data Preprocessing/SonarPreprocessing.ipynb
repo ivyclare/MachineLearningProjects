{
 "cells": [
  {
   "cell_type": "markdown",
   "metadata": {},
   "source": [
    "# Data PreProcessing Of Sonar Data (REPORT)\n",
    "---\n",
    "**Name:**\n",
    " Kieleh Ngong Ivoline-Clarisse \n",
    " \n",
    "**Number:**\n",
    "178229001010\n",
    "\n",
    "**Date:**\n",
    "05/16/2019\n",
    "\n",
    "---"
   ]
  },
  {
   "cell_type": "markdown",
   "metadata": {},
   "source": [
    "### Import Libraries and Read Data"
   ]
  },
  {
   "cell_type": "code",
   "execution_count": 1,
   "metadata": {
    "scrolled": true
   },
   "outputs": [
    {
     "name": "stderr",
     "output_type": "stream",
     "text": [
      "Using TensorFlow backend.\n"
     ]
    }
   ],
   "source": [
    "import numpy as np\n",
    "import pandas as pd\n",
    "import seaborn as sns\n",
    "import matplotlib.pyplot as plt\n",
    "from keras.utils import np_utils\n"
   ]
  },
  {
   "cell_type": "code",
   "execution_count": 2,
   "metadata": {},
   "outputs": [
    {
     "data": {
      "text/html": [
       "<div>\n",
       "<style scoped>\n",
       "    .dataframe tbody tr th:only-of-type {\n",
       "        vertical-align: middle;\n",
       "    }\n",
       "\n",
       "    .dataframe tbody tr th {\n",
       "        vertical-align: top;\n",
       "    }\n",
       "\n",
       "    .dataframe thead th {\n",
       "        text-align: right;\n",
       "    }\n",
       "</style>\n",
       "<table border=\"1\" class=\"dataframe\">\n",
       "  <thead>\n",
       "    <tr style=\"text-align: right;\">\n",
       "      <th></th>\n",
       "      <th>5</th>\n",
       "      <th>6</th>\n",
       "      <th>7</th>\n",
       "      <th>8</th>\n",
       "      <th>60</th>\n",
       "    </tr>\n",
       "  </thead>\n",
       "  <tbody>\n",
       "    <tr>\n",
       "      <th>0</th>\n",
       "      <td>0.099</td>\n",
       "      <td>0.154</td>\n",
       "      <td>0.160</td>\n",
       "      <td>0.311</td>\n",
       "      <td>R</td>\n",
       "    </tr>\n",
       "    <tr>\n",
       "      <th>1</th>\n",
       "      <td>0.258</td>\n",
       "      <td>0.216</td>\n",
       "      <td>0.348</td>\n",
       "      <td>0.334</td>\n",
       "      <td>R</td>\n",
       "    </tr>\n",
       "    <tr>\n",
       "      <th>2</th>\n",
       "      <td>0.228</td>\n",
       "      <td>0.243</td>\n",
       "      <td>0.377</td>\n",
       "      <td>0.560</td>\n",
       "      <td>R</td>\n",
       "    </tr>\n",
       "    <tr>\n",
       "      <th>3</th>\n",
       "      <td>0.037</td>\n",
       "      <td>0.110</td>\n",
       "      <td>0.128</td>\n",
       "      <td>0.060</td>\n",
       "      <td>R</td>\n",
       "    </tr>\n",
       "    <tr>\n",
       "      <th>4</th>\n",
       "      <td>0.065</td>\n",
       "      <td>0.121</td>\n",
       "      <td>0.247</td>\n",
       "      <td>0.356</td>\n",
       "      <td>R</td>\n",
       "    </tr>\n",
       "  </tbody>\n",
       "</table>\n",
       "</div>"
      ],
      "text/plain": [
       "      5      6      7      8  60\n",
       "0  0.099  0.154  0.160  0.311  R\n",
       "1  0.258  0.216  0.348  0.334  R\n",
       "2  0.228  0.243  0.377  0.560  R\n",
       "3  0.037  0.110  0.128  0.060  R\n",
       "4  0.065  0.121  0.247  0.356  R"
      ]
     },
     "execution_count": 2,
     "metadata": {},
     "output_type": "execute_result"
    }
   ],
   "source": [
    "#df = pd.read_csv('sonar.dat', sep='\\s+', header=None, skiprows=1)\n",
    "\n",
    "df = pd.read_csv('sonar.dat',header=None, sep=',\\s+',skiprows=65, engine='python')\n",
    "\n",
    "data = df.filter([5,6,7,8,60], axis=1)\n",
    "\n",
    "data.head()"
   ]
  },
  {
   "cell_type": "markdown",
   "metadata": {},
   "source": [
    "### Data Exploration and Data Quality"
   ]
  },
  {
   "cell_type": "code",
   "execution_count": 3,
   "metadata": {
    "scrolled": false
   },
   "outputs": [],
   "source": [
    "#Method For Data Exporation\n",
    "\n",
    "def exploreData(dataframe):\n",
    "    # Preview dataset\n",
    "    print(\"Dataset Head\")\n",
    "    print(dataframe.head(3))\n",
    "    print(\"--\" * 50)\n",
    "    \n",
    "    # Features in dataset\n",
    "    print(\"Dataset Atrributes\")\n",
    "    print(dataframe.columns.values)\n",
    "    print(\"--\" * 50)\n",
    "    \n",
    "     # view distribution of numerical features across the data set\n",
    "    print(\"Dataset Numerical Features\")\n",
    "    print(dataframe.describe())\n",
    "    print(\"--\" * 50)\n",
    "    \n",
    "    # View How many samples and how many missing values for each feature\n",
    "    print(\"Dataset Features Details\")\n",
    "    print(dataframe.info())\n",
    "    print(\"--\" * 50)\n",
    "    \n",
    "    # view distribution of categorical features across the data set\n",
    "#     print(\"Dataset Categorical Features\")\n",
    "#     print(dataframe.describe(include=['O']))\n",
    "#     print(\"--\" * 50)\n",
    "        \n",
    "    #Checking for missing values\n",
    "    print(\"Check for Missing Values\")\n",
    "    print(dataframe.isnull().sum())\n",
    "    print(\"--\" * 50)\n",
    "\n",
    "     #Get number of instances and number of attributes\n",
    "    print(\"Number of Instances and Attributes\")\n",
    "    print(dataframe.shape)\n",
    "    print(\"--\" * 50)\n",
    "    \n",
    "# exploreData(df)"
   ]
  },
  {
   "cell_type": "code",
   "execution_count": 4,
   "metadata": {
    "scrolled": true
   },
   "outputs": [],
   "source": [
    "X = df.iloc[:,5:9]\n",
    "#print(X[100:110])\n",
    "# Get last column which contains the outcomes(S and M)\n",
    "y = df.iloc[:,60]\n"
   ]
  },
  {
   "cell_type": "markdown",
   "metadata": {},
   "source": [
    "## Question 1\n"
   ]
  },
  {
   "cell_type": "markdown",
   "metadata": {},
   "source": [
    "### Five Number Summary"
   ]
  },
  {
   "cell_type": "code",
   "execution_count": 5,
   "metadata": {},
   "outputs": [
    {
     "data": {
      "text/html": [
       "<div>\n",
       "<style scoped>\n",
       "    .dataframe tbody tr th:only-of-type {\n",
       "        vertical-align: middle;\n",
       "    }\n",
       "\n",
       "    .dataframe tbody tr th {\n",
       "        vertical-align: top;\n",
       "    }\n",
       "\n",
       "    .dataframe thead th {\n",
       "        text-align: right;\n",
       "    }\n",
       "</style>\n",
       "<table border=\"1\" class=\"dataframe\">\n",
       "  <thead>\n",
       "    <tr style=\"text-align: right;\">\n",
       "      <th></th>\n",
       "      <th>5</th>\n",
       "      <th>6</th>\n",
       "      <th>7</th>\n",
       "      <th>8</th>\n",
       "    </tr>\n",
       "  </thead>\n",
       "  <tbody>\n",
       "    <tr>\n",
       "      <th>min</th>\n",
       "      <td>0.010</td>\n",
       "      <td>0.00300</td>\n",
       "      <td>0.00600</td>\n",
       "      <td>0.00800</td>\n",
       "    </tr>\n",
       "    <tr>\n",
       "      <th>25%</th>\n",
       "      <td>0.067</td>\n",
       "      <td>0.08075</td>\n",
       "      <td>0.08000</td>\n",
       "      <td>0.09675</td>\n",
       "    </tr>\n",
       "    <tr>\n",
       "      <th>50%</th>\n",
       "      <td>0.092</td>\n",
       "      <td>0.10700</td>\n",
       "      <td>0.11200</td>\n",
       "      <td>0.15200</td>\n",
       "    </tr>\n",
       "    <tr>\n",
       "      <th>75%</th>\n",
       "      <td>0.134</td>\n",
       "      <td>0.15400</td>\n",
       "      <td>0.16925</td>\n",
       "      <td>0.23350</td>\n",
       "    </tr>\n",
       "    <tr>\n",
       "      <th>max</th>\n",
       "      <td>0.382</td>\n",
       "      <td>0.37300</td>\n",
       "      <td>0.45900</td>\n",
       "      <td>0.68300</td>\n",
       "    </tr>\n",
       "  </tbody>\n",
       "</table>\n",
       "</div>"
      ],
      "text/plain": [
       "         5        6        7        8\n",
       "min  0.010  0.00300  0.00600  0.00800\n",
       "25%  0.067  0.08075  0.08000  0.09675\n",
       "50%  0.092  0.10700  0.11200  0.15200\n",
       "75%  0.134  0.15400  0.16925  0.23350\n",
       "max  0.382  0.37300  0.45900  0.68300"
      ]
     },
     "execution_count": 5,
     "metadata": {},
     "output_type": "execute_result"
    }
   ],
   "source": [
    "X.describe().reindex(['min','25%','50%','75%','max'])"
   ]
  },
  {
   "cell_type": "markdown",
   "metadata": {},
   "source": [
    "### Mean"
   ]
  },
  {
   "cell_type": "code",
   "execution_count": 6,
   "metadata": {
    "scrolled": false
   },
   "outputs": [
    {
     "data": {
      "text/plain": [
       "5    0.104572\n",
       "6    0.121755\n",
       "7    0.134793\n",
       "8    0.178005\n",
       "dtype: float64"
      ]
     },
     "execution_count": 6,
     "metadata": {},
     "output_type": "execute_result"
    }
   ],
   "source": [
    "X.mean(axis=0)"
   ]
  },
  {
   "cell_type": "markdown",
   "metadata": {},
   "source": [
    "### Mode"
   ]
  },
  {
   "cell_type": "code",
   "execution_count": 7,
   "metadata": {},
   "outputs": [
    {
     "data": {
      "text/plain": [
       "5    0.077\n",
       "6    0.102\n",
       "7    0.066\n",
       "8    0.074\n",
       "Name: 0, dtype: float64"
      ]
     },
     "execution_count": 7,
     "metadata": {},
     "output_type": "execute_result"
    }
   ],
   "source": [
    "X.mode().loc[0]"
   ]
  },
  {
   "cell_type": "markdown",
   "metadata": {},
   "source": [
    "### InterQuartile Range"
   ]
  },
  {
   "cell_type": "code",
   "execution_count": 8,
   "metadata": {},
   "outputs": [
    {
     "name": "stdout",
     "output_type": "stream",
     "text": [
      "5    0.06700\n",
      "6    0.07325\n",
      "7    0.08925\n",
      "8    0.13675\n",
      "dtype: float64\n"
     ]
    }
   ],
   "source": [
    "Q1 = X.quantile(0.25)\n",
    "Q3 = X.quantile(0.75)\n",
    "IQR = Q3 - Q1\n",
    "\n",
    "print(IQR)"
   ]
  },
  {
   "cell_type": "markdown",
   "metadata": {},
   "source": [
    "### Variance"
   ]
  },
  {
   "cell_type": "code",
   "execution_count": 9,
   "metadata": {},
   "outputs": [
    {
     "data": {
      "text/plain": [
       "5    0.003492\n",
       "6    0.003823\n",
       "7    0.007244\n",
       "8    0.014016\n",
       "dtype: float64"
      ]
     },
     "execution_count": 9,
     "metadata": {},
     "output_type": "execute_result"
    }
   ],
   "source": [
    "X.var()"
   ]
  },
  {
   "cell_type": "markdown",
   "metadata": {},
   "source": [
    "### Standard  Deviation"
   ]
  },
  {
   "cell_type": "code",
   "execution_count": 10,
   "metadata": {},
   "outputs": [
    {
     "data": {
      "text/plain": [
       "5    0.059095\n",
       "6    0.061830\n",
       "7    0.085111\n",
       "8    0.118388\n",
       "dtype: float64"
      ]
     },
     "execution_count": 10,
     "metadata": {},
     "output_type": "execute_result"
    }
   ],
   "source": [
    "X.std()"
   ]
  },
  {
   "cell_type": "markdown",
   "metadata": {},
   "source": [
    "### Outliers\n"
   ]
  },
  {
   "cell_type": "code",
   "execution_count": 11,
   "metadata": {},
   "outputs": [
    {
     "name": "stdout",
     "output_type": "stream",
     "text": [
      "Number of Outliers In Each Column\n"
     ]
    },
    {
     "data": {
      "text/plain": [
       "5     8\n",
       "6     5\n",
       "7    11\n",
       "8     8\n",
       "dtype: int64"
      ]
     },
     "execution_count": 11,
     "metadata": {},
     "output_type": "execute_result"
    }
   ],
   "source": [
    "# Filtering Values between Q1-1.5IQR and Q3+1.5IQR (how many outliers in each column)\n",
    "print(\"Number of Outliers In Each Column\")\n",
    "((X < (Q1 - 1.5 * IQR)) | (X > (Q3 + 1.5 * IQR))).sum()\n",
    "\n",
    "# mask = X[5].between(X[5].quantile(0.25), X[5].quantile(0.75), inclusive=True)\n",
    "# iqr = d.loc[mask, 5]"
   ]
  },
  {
   "cell_type": "code",
   "execution_count": 12,
   "metadata": {
    "scrolled": false
   },
   "outputs": [
    {
     "data": {
      "text/html": [
       "<div>\n",
       "<style scoped>\n",
       "    .dataframe tbody tr th:only-of-type {\n",
       "        vertical-align: middle;\n",
       "    }\n",
       "\n",
       "    .dataframe tbody tr th {\n",
       "        vertical-align: top;\n",
       "    }\n",
       "\n",
       "    .dataframe thead th {\n",
       "        text-align: right;\n",
       "    }\n",
       "</style>\n",
       "<table border=\"1\" class=\"dataframe\">\n",
       "  <thead>\n",
       "    <tr style=\"text-align: right;\">\n",
       "      <th></th>\n",
       "      <th>5</th>\n",
       "      <th>6</th>\n",
       "      <th>7</th>\n",
       "      <th>8</th>\n",
       "    </tr>\n",
       "  </thead>\n",
       "  <tbody>\n",
       "    <tr>\n",
       "      <th>1</th>\n",
       "      <td>0.258</td>\n",
       "      <td>NaN</td>\n",
       "      <td>0.348</td>\n",
       "      <td>NaN</td>\n",
       "    </tr>\n",
       "    <tr>\n",
       "      <th>2</th>\n",
       "      <td>NaN</td>\n",
       "      <td>NaN</td>\n",
       "      <td>0.377</td>\n",
       "      <td>0.560</td>\n",
       "    </tr>\n",
       "    <tr>\n",
       "      <th>19</th>\n",
       "      <td>0.256</td>\n",
       "      <td>0.295</td>\n",
       "      <td>0.411</td>\n",
       "      <td>0.498</td>\n",
       "    </tr>\n",
       "    <tr>\n",
       "      <th>20</th>\n",
       "      <td>0.307</td>\n",
       "      <td>0.301</td>\n",
       "      <td>NaN</td>\n",
       "      <td>NaN</td>\n",
       "    </tr>\n",
       "    <tr>\n",
       "      <th>87</th>\n",
       "      <td>NaN</td>\n",
       "      <td>NaN</td>\n",
       "      <td>0.311</td>\n",
       "      <td>NaN</td>\n",
       "    </tr>\n",
       "    <tr>\n",
       "      <th>90</th>\n",
       "      <td>0.259</td>\n",
       "      <td>NaN</td>\n",
       "      <td>NaN</td>\n",
       "      <td>NaN</td>\n",
       "    </tr>\n",
       "    <tr>\n",
       "      <th>91</th>\n",
       "      <td>0.382</td>\n",
       "      <td>0.373</td>\n",
       "      <td>0.358</td>\n",
       "      <td>NaN</td>\n",
       "    </tr>\n",
       "    <tr>\n",
       "      <th>127</th>\n",
       "      <td>NaN</td>\n",
       "      <td>0.302</td>\n",
       "      <td>0.346</td>\n",
       "      <td>NaN</td>\n",
       "    </tr>\n",
       "    <tr>\n",
       "      <th>130</th>\n",
       "      <td>0.261</td>\n",
       "      <td>NaN</td>\n",
       "      <td>NaN</td>\n",
       "      <td>NaN</td>\n",
       "    </tr>\n",
       "    <tr>\n",
       "      <th>132</th>\n",
       "      <td>NaN</td>\n",
       "      <td>NaN</td>\n",
       "      <td>0.422</td>\n",
       "      <td>0.574</td>\n",
       "    </tr>\n",
       "    <tr>\n",
       "      <th>133</th>\n",
       "      <td>NaN</td>\n",
       "      <td>NaN</td>\n",
       "      <td>NaN</td>\n",
       "      <td>0.566</td>\n",
       "    </tr>\n",
       "    <tr>\n",
       "      <th>134</th>\n",
       "      <td>NaN</td>\n",
       "      <td>0.332</td>\n",
       "      <td>0.459</td>\n",
       "      <td>0.553</td>\n",
       "    </tr>\n",
       "    <tr>\n",
       "      <th>135</th>\n",
       "      <td>NaN</td>\n",
       "      <td>NaN</td>\n",
       "      <td>0.457</td>\n",
       "      <td>0.659</td>\n",
       "    </tr>\n",
       "    <tr>\n",
       "      <th>136</th>\n",
       "      <td>NaN</td>\n",
       "      <td>NaN</td>\n",
       "      <td>0.426</td>\n",
       "      <td>0.683</td>\n",
       "    </tr>\n",
       "    <tr>\n",
       "      <th>138</th>\n",
       "      <td>0.277</td>\n",
       "      <td>NaN</td>\n",
       "      <td>NaN</td>\n",
       "      <td>NaN</td>\n",
       "    </tr>\n",
       "    <tr>\n",
       "      <th>143</th>\n",
       "      <td>0.243</td>\n",
       "      <td>NaN</td>\n",
       "      <td>NaN</td>\n",
       "      <td>NaN</td>\n",
       "    </tr>\n",
       "    <tr>\n",
       "      <th>171</th>\n",
       "      <td>NaN</td>\n",
       "      <td>NaN</td>\n",
       "      <td>0.346</td>\n",
       "      <td>0.528</td>\n",
       "    </tr>\n",
       "  </tbody>\n",
       "</table>\n",
       "</div>"
      ],
      "text/plain": [
       "         5      6      7      8\n",
       "1    0.258    NaN  0.348    NaN\n",
       "2      NaN    NaN  0.377  0.560\n",
       "19   0.256  0.295  0.411  0.498\n",
       "20   0.307  0.301    NaN    NaN\n",
       "87     NaN    NaN  0.311    NaN\n",
       "90   0.259    NaN    NaN    NaN\n",
       "91   0.382  0.373  0.358    NaN\n",
       "127    NaN  0.302  0.346    NaN\n",
       "130  0.261    NaN    NaN    NaN\n",
       "132    NaN    NaN  0.422  0.574\n",
       "133    NaN    NaN    NaN  0.566\n",
       "134    NaN  0.332  0.459  0.553\n",
       "135    NaN    NaN  0.457  0.659\n",
       "136    NaN    NaN  0.426  0.683\n",
       "138  0.277    NaN    NaN    NaN\n",
       "143  0.243    NaN    NaN    NaN\n",
       "171    NaN    NaN  0.346  0.528"
      ]
     },
     "execution_count": 12,
     "metadata": {},
     "output_type": "execute_result"
    }
   ],
   "source": [
    "# Displaying the outliers\n",
    "mask = (X < (Q1 - 1.5 * IQR)) | (X > (Q3 + 1.5 * IQR))\n",
    "X_mask = X[mask]\n",
    "X_mask.dropna(thresh=1)\n"
   ]
  },
  {
   "cell_type": "markdown",
   "metadata": {},
   "source": [
    "### Boxplots for Each Attribute"
   ]
  },
  {
   "cell_type": "code",
   "execution_count": 13,
   "metadata": {
    "scrolled": true
   },
   "outputs": [
    {
     "data": {
      "text/plain": [
       "Text(0.5, 1.0, 'Band 8 BoxPlot')"
      ]
     },
     "execution_count": 13,
     "metadata": {},
     "output_type": "execute_result"
    },
    {
     "data": {
      "image/png": "[encoded data removed]",
      "text/plain": [
       "<Figure size 432x288 with 4 Axes>"
      ]
     },
     "metadata": {
      "needs_background": "light"
     },
     "output_type": "display_data"
    }
   ],
   "source": [
    "f, axes = plt.subplots(1, 4,constrained_layout=True)\n",
    "sns.boxplot(x=5, data=X,  orient='v' , ax=axes[0],palette = \"rainbow\").set_title('Band 5 BoxPlot')\n",
    "sns.boxplot(x=6, data=X,  orient='v' , ax=axes[1]).set_title('Band 6 BoxPlot')\n",
    "sns.boxplot(x=7, data=X,  orient='v' , ax=axes[2],palette = \"plasma\").set_title('Band 7 BoxPlot')\n",
    "sns.boxplot(x=8, data=X,  orient='v' , ax=axes[3],palette = \"copper\").set_title('Band 8 BoxPlot')\n"
   ]
  },
  {
   "cell_type": "markdown",
   "metadata": {},
   "source": [
    "## Question 2"
   ]
  },
  {
   "cell_type": "markdown",
   "metadata": {},
   "source": [
    "### Min-Max Normalization"
   ]
  },
  {
   "cell_type": "code",
   "execution_count": 14,
   "metadata": {},
   "outputs": [
    {
     "data": {
      "text/html": [
       "<div>\n",
       "<style scoped>\n",
       "    .dataframe tbody tr th:only-of-type {\n",
       "        vertical-align: middle;\n",
       "    }\n",
       "\n",
       "    .dataframe tbody tr th {\n",
       "        vertical-align: top;\n",
       "    }\n",
       "\n",
       "    .dataframe thead th {\n",
       "        text-align: right;\n",
       "    }\n",
       "</style>\n",
       "<table border=\"1\" class=\"dataframe\">\n",
       "  <thead>\n",
       "    <tr style=\"text-align: right;\">\n",
       "      <th></th>\n",
       "      <th>0</th>\n",
       "      <th>1</th>\n",
       "      <th>2</th>\n",
       "      <th>3</th>\n",
       "    </tr>\n",
       "  </thead>\n",
       "  <tbody>\n",
       "    <tr>\n",
       "      <th>0</th>\n",
       "      <td>0.239247</td>\n",
       "      <td>0.408108</td>\n",
       "      <td>0.339956</td>\n",
       "      <td>0.448889</td>\n",
       "    </tr>\n",
       "    <tr>\n",
       "      <th>1</th>\n",
       "      <td>0.666667</td>\n",
       "      <td>0.575676</td>\n",
       "      <td>0.754967</td>\n",
       "      <td>0.482963</td>\n",
       "    </tr>\n",
       "    <tr>\n",
       "      <th>2</th>\n",
       "      <td>0.586022</td>\n",
       "      <td>0.648649</td>\n",
       "      <td>0.818985</td>\n",
       "      <td>0.817778</td>\n",
       "    </tr>\n",
       "    <tr>\n",
       "      <th>3</th>\n",
       "      <td>0.072581</td>\n",
       "      <td>0.289189</td>\n",
       "      <td>0.269316</td>\n",
       "      <td>0.077037</td>\n",
       "    </tr>\n",
       "    <tr>\n",
       "      <th>4</th>\n",
       "      <td>0.147849</td>\n",
       "      <td>0.318919</td>\n",
       "      <td>0.532009</td>\n",
       "      <td>0.515556</td>\n",
       "    </tr>\n",
       "  </tbody>\n",
       "</table>\n",
       "</div>"
      ],
      "text/plain": [
       "          0         1         2         3\n",
       "0  0.239247  0.408108  0.339956  0.448889\n",
       "1  0.666667  0.575676  0.754967  0.482963\n",
       "2  0.586022  0.648649  0.818985  0.817778\n",
       "3  0.072581  0.289189  0.269316  0.077037\n",
       "4  0.147849  0.318919  0.532009  0.515556"
      ]
     },
     "execution_count": 14,
     "metadata": {},
     "output_type": "execute_result"
    }
   ],
   "source": [
    "from sklearn import preprocessing\n",
    "\n",
    "# Create a minimum and maximum processor object\n",
    "min_max_scaler = preprocessing.MinMaxScaler()\n",
    "# Create an object to transform the data to fit minmax processor\n",
    "X_scaled = min_max_scaler.fit_transform(X)\n",
    "# Run the normalizer on the dataframe\n",
    "df_normalized = pd.DataFrame(X_scaled)\n",
    "df_normalized.head()"
   ]
  },
  {
   "cell_type": "code",
   "execution_count": 15,
   "metadata": {
    "scrolled": true
   },
   "outputs": [
    {
     "data": {
      "text/plain": [
       "Text(0, 0.5, 'Frequency')"
      ]
     },
     "execution_count": 15,
     "metadata": {},
     "output_type": "execute_result"
    },
    {
     "data": {
      "image/png": "[encoded data removed]",
      "text/plain": [
       "<Figure size 720x288 with 4 Axes>"
      ]
     },
     "metadata": {
      "needs_background": "light"
     },
     "output_type": "display_data"
    }
   ],
   "source": [
    "bin_range = np.linspace(0, 1, 11)\n",
    "\n",
    "f, axes = plt.subplots(figsize=(10,4), ncols=2, nrows=2,constrained_layout=True)\n",
    "sns.distplot(df_normalized[0], kde=False, ax=axes[0][0],color='red',hist_kws=dict(edgecolor=\"k\", linewidth=1),bins=bin_range)\n",
    "axes[0][0].set_title('Band5 MinMax')\n",
    "axes[0][0].set_xlabel('Band 5')\n",
    "axes[0][0].set_ylabel('Frequency')\n",
    "\n",
    "sns.distplot(df_normalized[1], kde=False,ax=axes[1][0], color='red',hist_kws=dict(edgecolor=\"k\", linewidth=1),bins=bin_range)\n",
    "axes[1][0].set_title('Band6 MinMax')\n",
    "axes[1][0].set_xlabel('Band 6')\n",
    "axes[1][0].set_ylabel('Frequency')\n",
    "\n",
    "sns.distplot(df_normalized[2], kde=False,ax=axes[0][1], color='red',hist_kws=dict(edgecolor=\"k\", linewidth=1),bins=bin_range)\n",
    "axes[0][1].set_title('Band7 MinMax')\n",
    "axes[0][1].set_xlabel('Band 7')\n",
    "axes[0][1].set_ylabel('Frequency')\n",
    "\n",
    "sns.distplot(df_normalized[3], kde=False,ax=axes[1][1], color = \"red\",hist_kws=dict(edgecolor=\"k\", linewidth=1),bins=bin_range)\n",
    "axes[1][1].set_title('Band8 MinMax')\n",
    "axes[1][1].set_xlabel('Band 8')\n",
    "axes[1][1].set_ylabel('Frequency')"
   ]
  },
  {
   "cell_type": "markdown",
   "metadata": {},
   "source": [
    "### Z-Score Normalization"
   ]
  },
  {
   "cell_type": "code",
   "execution_count": 16,
   "metadata": {},
   "outputs": [
    {
     "data": {
      "text/html": [
       "<div>\n",
       "<style scoped>\n",
       "    .dataframe tbody tr th:only-of-type {\n",
       "        vertical-align: middle;\n",
       "    }\n",
       "\n",
       "    .dataframe tbody tr th {\n",
       "        vertical-align: top;\n",
       "    }\n",
       "\n",
       "    .dataframe thead th {\n",
       "        text-align: right;\n",
       "    }\n",
       "</style>\n",
       "<table border=\"1\" class=\"dataframe\">\n",
       "  <thead>\n",
       "    <tr style=\"text-align: right;\">\n",
       "      <th></th>\n",
       "      <th>5</th>\n",
       "      <th>6</th>\n",
       "      <th>7</th>\n",
       "      <th>8</th>\n",
       "    </tr>\n",
       "  </thead>\n",
       "  <tbody>\n",
       "    <tr>\n",
       "      <th>0</th>\n",
       "      <td>-0.094518</td>\n",
       "      <td>0.522771</td>\n",
       "      <td>0.296876</td>\n",
       "      <td>1.126096</td>\n",
       "    </tr>\n",
       "    <tr>\n",
       "      <th>1</th>\n",
       "      <td>2.602535</td>\n",
       "      <td>1.527939</td>\n",
       "      <td>2.511075</td>\n",
       "      <td>1.320842</td>\n",
       "    </tr>\n",
       "    <tr>\n",
       "      <th>2</th>\n",
       "      <td>2.093657</td>\n",
       "      <td>1.965673</td>\n",
       "      <td>2.852627</td>\n",
       "      <td>3.234428</td>\n",
       "    </tr>\n",
       "    <tr>\n",
       "      <th>3</th>\n",
       "      <td>-1.146198</td>\n",
       "      <td>-0.190573</td>\n",
       "      <td>-0.080009</td>\n",
       "      <td>-0.999170</td>\n",
       "    </tr>\n",
       "    <tr>\n",
       "      <th>4</th>\n",
       "      <td>-0.671246</td>\n",
       "      <td>-0.012237</td>\n",
       "      <td>1.321532</td>\n",
       "      <td>1.507120</td>\n",
       "    </tr>\n",
       "  </tbody>\n",
       "</table>\n",
       "</div>"
      ],
      "text/plain": [
       "          5         6         7         8\n",
       "0 -0.094518  0.522771  0.296876  1.126096\n",
       "1  2.602535  1.527939  2.511075  1.320842\n",
       "2  2.093657  1.965673  2.852627  3.234428\n",
       "3 -1.146198 -0.190573 -0.080009 -0.999170\n",
       "4 -0.671246 -0.012237  1.321532  1.507120"
      ]
     },
     "execution_count": 16,
     "metadata": {},
     "output_type": "execute_result"
    }
   ],
   "source": [
    "from scipy import stats\n",
    "\n",
    "X_normalized = X.apply(stats.zscore)\n",
    "X_normalized.head()"
   ]
  },
  {
   "cell_type": "code",
   "execution_count": 17,
   "metadata": {},
   "outputs": [
    {
     "data": {
      "text/plain": [
       "Text(0, 0.5, 'Frequency')"
      ]
     },
     "execution_count": 17,
     "metadata": {},
     "output_type": "execute_result"
    },
    {
     "data": {
      "image/png": "[encoded data removed]",
      "text/plain": [
       "<Figure size 720x288 with 4 Axes>"
      ]
     },
     "metadata": {
      "needs_background": "light"
     },
     "output_type": "display_data"
    }
   ],
   "source": [
    "bin_range = np.linspace(0, 1, 11)\n",
    "\n",
    "f, axes = plt.subplots(figsize=(10,4), ncols=2, nrows=2,constrained_layout=True)\n",
    "sns.distplot(X_normalized[5], kde=False, ax=axes[0][0],color='red',hist_kws=dict(edgecolor=\"k\", linewidth=1,rwidth=0.5),bins=bin_range)\n",
    "axes[0][0].set_title('Band5 z-Normalized')\n",
    "axes[0][0].set_xlabel('Band 5')\n",
    "axes[0][0].set_ylabel('Frequency')\n",
    "\n",
    "sns.distplot(X_normalized[6], kde=False,ax=axes[1][0], color='red',hist_kws=dict(edgecolor=\"k\", linewidth=1,rwidth=0.5),bins=bin_range)\n",
    "axes[1][0].set_title('Band6 z-Normalized')\n",
    "axes[1][0].set_xlabel('Band 6')\n",
    "axes[1][0].set_ylabel('Frequency')\n",
    "\n",
    "sns.distplot(X_normalized[7], kde=False,ax=axes[0][1], color='red',hist_kws=dict(edgecolor=\"k\", linewidth=1,rwidth=0.5),bins=bin_range)\n",
    "axes[0][1].set_title('Band7 z-Normalized')\n",
    "axes[0][1].set_xlabel('Band 7')\n",
    "axes[0][1].set_ylabel('Frequency')\n",
    "\n",
    "sns.distplot(X_normalized[8], kde=False,ax=axes[1][1], color = \"red\",hist_kws=dict(edgecolor=\"k\", linewidth=1,rwidth=0.5),bins=bin_range)\n",
    "axes[1][1].set_title('Band8 z-Normalized')\n",
    "axes[1][1].set_xlabel('Band 8')\n",
    "axes[1][1].set_ylabel('Frequency')"
   ]
  },
  {
   "cell_type": "markdown",
   "metadata": {},
   "source": [
    "### N Equal-width"
   ]
  },
  {
   "cell_type": "code",
   "execution_count": 18,
   "metadata": {},
   "outputs": [
    {
     "data": {
      "text/html": [
       "<div>\n",
       "<style scoped>\n",
       "    .dataframe tbody tr th:only-of-type {\n",
       "        vertical-align: middle;\n",
       "    }\n",
       "\n",
       "    .dataframe tbody tr th {\n",
       "        vertical-align: top;\n",
       "    }\n",
       "\n",
       "    .dataframe thead th {\n",
       "        text-align: right;\n",
       "    }\n",
       "</style>\n",
       "<table border=\"1\" class=\"dataframe\">\n",
       "  <thead>\n",
       "    <tr style=\"text-align: right;\">\n",
       "      <th></th>\n",
       "      <th>5</th>\n",
       "      <th>5_bin_custom_range</th>\n",
       "    </tr>\n",
       "  </thead>\n",
       "  <tbody>\n",
       "    <tr>\n",
       "      <th>10</th>\n",
       "      <td>0.028</td>\n",
       "      <td>(0.0, 0.1]</td>\n",
       "    </tr>\n",
       "    <tr>\n",
       "      <th>11</th>\n",
       "      <td>0.010</td>\n",
       "      <td>(0.0, 0.1]</td>\n",
       "    </tr>\n",
       "    <tr>\n",
       "      <th>12</th>\n",
       "      <td>0.055</td>\n",
       "      <td>(0.0, 0.1]</td>\n",
       "    </tr>\n",
       "    <tr>\n",
       "      <th>13</th>\n",
       "      <td>0.159</td>\n",
       "      <td>(0.1, 0.2]</td>\n",
       "    </tr>\n",
       "    <tr>\n",
       "      <th>14</th>\n",
       "      <td>0.036</td>\n",
       "      <td>(0.0, 0.1]</td>\n",
       "    </tr>\n",
       "    <tr>\n",
       "      <th>15</th>\n",
       "      <td>0.229</td>\n",
       "      <td>(0.2, 0.3]</td>\n",
       "    </tr>\n",
       "    <tr>\n",
       "      <th>16</th>\n",
       "      <td>0.118</td>\n",
       "      <td>(0.1, 0.2]</td>\n",
       "    </tr>\n",
       "    <tr>\n",
       "      <th>17</th>\n",
       "      <td>0.081</td>\n",
       "      <td>(0.0, 0.1]</td>\n",
       "    </tr>\n",
       "    <tr>\n",
       "      <th>18</th>\n",
       "      <td>0.076</td>\n",
       "      <td>(0.0, 0.1]</td>\n",
       "    </tr>\n",
       "    <tr>\n",
       "      <th>19</th>\n",
       "      <td>0.256</td>\n",
       "      <td>(0.2, 0.3]</td>\n",
       "    </tr>\n",
       "  </tbody>\n",
       "</table>\n",
       "</div>"
      ],
      "text/plain": [
       "        5 5_bin_custom_range\n",
       "10  0.028         (0.0, 0.1]\n",
       "11  0.010         (0.0, 0.1]\n",
       "12  0.055         (0.0, 0.1]\n",
       "13  0.159         (0.1, 0.2]\n",
       "14  0.036         (0.0, 0.1]\n",
       "15  0.229         (0.2, 0.3]\n",
       "16  0.118         (0.1, 0.2]\n",
       "17  0.081         (0.0, 0.1]\n",
       "18  0.076         (0.0, 0.1]\n",
       "19  0.256         (0.2, 0.3]"
      ]
     },
     "execution_count": 18,
     "metadata": {},
     "output_type": "execute_result"
    }
   ],
   "source": [
    "#width=(max−min)/N\n",
    "\n",
    "# Equal interval widths\n",
    "bin_range = [0, 0.10, 0.20, 0.30, 0.40, 0.50, 0.70, 0.80]\n",
    "\n",
    "X['5_bin_custom_range'] = pd.cut(np.array(X[5]),bins=bin_range)\n",
    "#X[5,'5_bin_custom_range'].iloc(10,20)\n",
    "X[[5, '5_bin_custom_range']].iloc[10:20]\n"
   ]
  },
  {
   "cell_type": "code",
   "execution_count": 19,
   "metadata": {
    "scrolled": false
   },
   "outputs": [
    {
     "data": {
      "image/png": "[encoded data removed]",
      "text/plain": [
       "<Figure size 720x288 with 4 Axes>"
      ]
     },
     "metadata": {
      "needs_background": "light"
     },
     "output_type": "display_data"
    }
   ],
   "source": [
    "# Equal interval widths\n",
    "bin_range = [0, 0.10, 0.20, 0.30, 0.40, 0.50, 0.70, 0.80]\n",
    "\n",
    "#bin_range = np.linspace(0, 1, 11)\n",
    "\n",
    "f, axes = plt.subplots(figsize=(10,4), ncols=2, nrows=2,constrained_layout=True)\n",
    "sns.distplot(X[5], kde=False, ax=axes[0][0],color='red',hist_kws=dict(edgecolor=\"k\", linewidth=1,rwidth=0.5),bins=bin_range)\n",
    "axes[0][0].set_title('Band5 Equal-Width')\n",
    "axes[0][0].set_xlabel('Band 5')\n",
    "axes[0][0].set_ylabel('Frequency')\n",
    "\n",
    "sns.distplot(X[6], kde=False,ax=axes[1][0], color='red',hist_kws=dict(edgecolor=\"k\", linewidth=1,rwidth=0.5),bins=bin_range)\n",
    "axes[1][0].set_title('Band6 Equal-Width')\n",
    "axes[1][0].set_xlabel('Band 6')\n",
    "axes[1][0].set_ylabel('Frequency')\n",
    "\n",
    "sns.distplot(X[7], kde=False,ax=axes[0][1], color='red',hist_kws=dict(edgecolor=\"k\", linewidth=1,rwidth=0.5),bins=bin_range)\n",
    "axes[0][1].set_title('Band7 Equal-Width')\n",
    "axes[0][1].set_xlabel('Band 7')\n",
    "axes[0][1].set_ylabel('Frequency')\n",
    "\n",
    "sns.distplot(X[8], kde=False,ax=axes[1][1], color = \"red\",hist_kws=dict(edgecolor=\"k\", linewidth=1,rwidth=0.5),bins=bin_range)\n",
    "axes[1][1].set_title('Band8 Equal-Width')\n",
    "axes[1][1].set_xlabel('Band 8')\n",
    "axes[1][1].set_ylabel('Frequency')\n",
    "\n",
    "X['5_bin_custom_range'] = pd.cut(np.array(X[5]),bins=bin_range)\n",
    "\n"
   ]
  },
  {
   "cell_type": "markdown",
   "metadata": {},
   "source": [
    "## Question 3"
   ]
  },
  {
   "cell_type": "markdown",
   "metadata": {},
   "source": [
    "### Methods for Calculating Entropy and Information Gain for Each Attribute"
   ]
  },
  {
   "cell_type": "code",
   "execution_count": 20,
   "metadata": {},
   "outputs": [],
   "source": [
    "def entropy(target_col):\n",
    "    \"\"\"\n",
    "    Calculate the entropy of a dataset.\n",
    "    The only parameter of this function is the target_col parameter which specifies the target column\n",
    "    \"\"\"\n",
    "    elements,counts = np.unique(target_col,return_counts = True)\n",
    "    entropy = np.sum([(-counts[i]/np.sum(counts))*np.log2(counts[i]/np.sum(counts)) for i in range(len(elements))])\n",
    "    return entropy\n",
    "\n",
    "def InfoGain(data,split_attribute_name,target_name=\"class\"):\n",
    "    \"\"\"\n",
    "    Calculate the information gain of a dataset. This function takes three parameters:\n",
    "    1. data = The dataset for whose feature the IG should be calculated\n",
    "    2. split_attribute_name = the name of the feature for which the information gain should be calculated\n",
    "    3. target_name = the name of the target feature. The default for this example is \"class\"\n",
    "    \"\"\"    \n",
    "    #Calculate the entropy of the total dataset\n",
    "    total_entropy = entropy(data[target_name])\n",
    "    \n",
    "    ##Calculate the entropy of the dataset\n",
    "    \n",
    "    #Calculate the values and the corresponding counts for the split attribute \n",
    "    vals,counts= np.unique(data[split_attribute_name],return_counts=True)\n",
    "    \n",
    "    #Calculate the weighted entropy\n",
    "    Weighted_Entropy = np.sum([(counts[i]/np.sum(counts))*entropy(data.where(data[split_attribute_name]==vals[i]).dropna()[target_name]) for i in range(len(vals))])\n",
    "    \n",
    "    #Calculate the information gain\n",
    "    Information_Gain = total_entropy - Weighted_Entropy\n",
    "    return Information_Gain"
   ]
  },
  {
   "cell_type": "markdown",
   "metadata": {},
   "source": [
    "### Calculating Entropy for Entire Dataset"
   ]
  },
  {
   "cell_type": "code",
   "execution_count": 21,
   "metadata": {
    "scrolled": true
   },
   "outputs": [
    {
     "name": "stdout",
     "output_type": "stream",
     "text": [
      "[0 0 0 0 0 0 0 0]\n",
      "0.9967295890208365\n"
     ]
    }
   ],
   "source": [
    "#Convert categorical variable to numerical\n",
    "from sklearn.preprocessing import LabelEncoder,OneHotEncoder\n",
    "labelencoder = LabelEncoder()\n",
    "#print(y[200:210])\n",
    "y = labelencoder.fit_transform(y)\n",
    "print(y[200:210])\n",
    "\n",
    "# Entropy of output\n",
    "print(entropy(y))"
   ]
  },
  {
   "cell_type": "markdown",
   "metadata": {},
   "source": [
    "### 3-Equal Width (Dividing the data into 3 intervals of equal size)"
   ]
  },
  {
   "cell_type": "markdown",
   "metadata": {},
   "source": [
    "#### For Band 5 Variable"
   ]
  },
  {
   "cell_type": "code",
   "execution_count": 22,
   "metadata": {},
   "outputs": [
    {
     "data": {
      "image/png": "[encoded data removed]",
      "text/plain": [
       "<Figure size 432x288 with 1 Axes>"
      ]
     },
     "metadata": {
      "needs_background": "light"
     },
     "output_type": "display_data"
    }
   ],
   "source": [
    "# 3-Equal Width\n",
    "width = (X[5].max()-X[5].min())/3\n",
    "#print(width)\n",
    "bin_range = [0, 0.124, 0.248, 0.372]\n",
    "\n",
    "X['5_equal_width'] = pd.cut(np.array(X[5]),bins=bin_range)\n",
    "X[[5, '5_equal_width']].iloc[10:20]\n",
    "plt.hist(X[5], bins=bin_range,rwidth=0.5)\n",
    "plt.title('3-Equal Width for 5')\n",
    "plt.ylabel('No of times')\n",
    "plt.show()\n",
    "\n",
    "#bin_range = np.linspace(0, 1, 11)\n"
   ]
  },
  {
   "cell_type": "code",
   "execution_count": 23,
   "metadata": {},
   "outputs": [
    {
     "data": {
      "text/html": [
       "<div>\n",
       "<style scoped>\n",
       "    .dataframe tbody tr th:only-of-type {\n",
       "        vertical-align: middle;\n",
       "    }\n",
       "\n",
       "    .dataframe tbody tr th {\n",
       "        vertical-align: top;\n",
       "    }\n",
       "\n",
       "    .dataframe thead th {\n",
       "        text-align: right;\n",
       "    }\n",
       "</style>\n",
       "<table border=\"1\" class=\"dataframe\">\n",
       "  <thead>\n",
       "    <tr style=\"text-align: right;\">\n",
       "      <th></th>\n",
       "      <th>5</th>\n",
       "      <th>6</th>\n",
       "      <th>7</th>\n",
       "      <th>8</th>\n",
       "      <th>60</th>\n",
       "      <th>3_equal_width_5</th>\n",
       "    </tr>\n",
       "  </thead>\n",
       "  <tbody>\n",
       "    <tr>\n",
       "      <th>0</th>\n",
       "      <td>0.099</td>\n",
       "      <td>0.154</td>\n",
       "      <td>0.160</td>\n",
       "      <td>0.311</td>\n",
       "      <td>R</td>\n",
       "      <td>1</td>\n",
       "    </tr>\n",
       "    <tr>\n",
       "      <th>1</th>\n",
       "      <td>0.258</td>\n",
       "      <td>0.216</td>\n",
       "      <td>0.348</td>\n",
       "      <td>0.334</td>\n",
       "      <td>R</td>\n",
       "      <td>3</td>\n",
       "    </tr>\n",
       "    <tr>\n",
       "      <th>2</th>\n",
       "      <td>0.228</td>\n",
       "      <td>0.243</td>\n",
       "      <td>0.377</td>\n",
       "      <td>0.560</td>\n",
       "      <td>R</td>\n",
       "      <td>2</td>\n",
       "    </tr>\n",
       "    <tr>\n",
       "      <th>3</th>\n",
       "      <td>0.037</td>\n",
       "      <td>0.110</td>\n",
       "      <td>0.128</td>\n",
       "      <td>0.060</td>\n",
       "      <td>R</td>\n",
       "      <td>1</td>\n",
       "    </tr>\n",
       "    <tr>\n",
       "      <th>4</th>\n",
       "      <td>0.065</td>\n",
       "      <td>0.121</td>\n",
       "      <td>0.247</td>\n",
       "      <td>0.356</td>\n",
       "      <td>R</td>\n",
       "      <td>1</td>\n",
       "    </tr>\n",
       "  </tbody>\n",
       "</table>\n",
       "</div>"
      ],
      "text/plain": [
       "       5      6      7      8 60 3_equal_width_5\n",
       "0  0.099  0.154  0.160  0.311  R               1\n",
       "1  0.258  0.216  0.348  0.334  R               3\n",
       "2  0.228  0.243  0.377  0.560  R               2\n",
       "3  0.037  0.110  0.128  0.060  R               1\n",
       "4  0.065  0.121  0.247  0.356  R               1"
      ]
     },
     "execution_count": 23,
     "metadata": {},
     "output_type": "execute_result"
    }
   ],
   "source": [
    "data['3_equal_width_5'] = pd.cut(np.array(X[5]),bins=bin_range,labels=['1', '2', '3']).astype(str)\n",
    "data.head()"
   ]
  },
  {
   "cell_type": "code",
   "execution_count": 24,
   "metadata": {},
   "outputs": [
    {
     "name": "stdout",
     "output_type": "stream",
     "text": [
      "Band 5 Information Gain(3-Equal Width) =  0.04934766243565114\n"
     ]
    }
   ],
   "source": [
    "print(\"Band 5 Information Gain(3-Equal Width) = \",InfoGain(data,'3_equal_width_5',60))"
   ]
  },
  {
   "cell_type": "markdown",
   "metadata": {},
   "source": [
    "#### For Band 6 Variable"
   ]
  },
  {
   "cell_type": "code",
   "execution_count": 25,
   "metadata": {},
   "outputs": [
    {
     "name": "stdout",
     "output_type": "stream",
     "text": [
      "0.12333333333333334\n"
     ]
    }
   ],
   "source": [
    "# 3-Equal Width\n",
    "width = (X[6].max()-X[6].min())/3\n",
    "print(width)\n",
    "bin_range = [0, 0.124, 0.248, 0.372]"
   ]
  },
  {
   "cell_type": "code",
   "execution_count": 26,
   "metadata": {},
   "outputs": [
    {
     "name": "stdout",
     "output_type": "stream",
     "text": [
      "Band 6 Information Gain(3-Equal Width) =  0.030302225934551674\n"
     ]
    }
   ],
   "source": [
    "data['3_equal_width_6'] = pd.cut(np.array(X[6]),bins=bin_range,labels=['1', '2', '3']).astype(str)\n",
    "print(\"Band 6 Information Gain(3-Equal Width) = \",InfoGain(data,'3_equal_width_6',60))"
   ]
  },
  {
   "cell_type": "markdown",
   "metadata": {
    "scrolled": true
   },
   "source": [
    "#### For Band 7 Variable"
   ]
  },
  {
   "cell_type": "code",
   "execution_count": 27,
   "metadata": {},
   "outputs": [
    {
     "name": "stdout",
     "output_type": "stream",
     "text": [
      "0.151\n"
     ]
    }
   ],
   "source": [
    "# 3-Equal Width\n",
    "width = (X[7].max()-X[7].min())/3\n",
    "print(width)\n",
    "bin_range = [0, 0.15, 0.3, 0.45]"
   ]
  },
  {
   "cell_type": "code",
   "execution_count": 28,
   "metadata": {},
   "outputs": [
    {
     "name": "stdout",
     "output_type": "stream",
     "text": [
      "Band 7 Information Gain(3-Equal Width) =  0.042331819850458086\n"
     ]
    }
   ],
   "source": [
    "data['3_equal_width_7'] = pd.cut(np.array(X[7]),bins=bin_range,labels=['1', '2', '3']).astype(str)\n",
    "print(\"Band 7 Information Gain(3-Equal Width) = \",InfoGain(data,'3_equal_width_7',60))"
   ]
  },
  {
   "cell_type": "markdown",
   "metadata": {},
   "source": [
    "#### For Band 8 Variable"
   ]
  },
  {
   "cell_type": "code",
   "execution_count": 29,
   "metadata": {},
   "outputs": [
    {
     "name": "stdout",
     "output_type": "stream",
     "text": [
      "0.22499999999999998\n"
     ]
    }
   ],
   "source": [
    "# 3-Equal Width\n",
    "width = (X[8].max()-X[8].min())/3\n",
    "print(width)\n",
    "bin_range = [0, 0.22, 0.44, 0.66]\n"
   ]
  },
  {
   "cell_type": "code",
   "execution_count": 30,
   "metadata": {},
   "outputs": [
    {
     "name": "stdout",
     "output_type": "stream",
     "text": [
      "Band 8 Information Gain(3-Equal Width) =  0.05417326364611841\n"
     ]
    }
   ],
   "source": [
    "data['3_equal_width_8'] = pd.cut(np.array(X[8]),bins=bin_range,labels=['1', '2', '3']).astype(str)\n",
    "print(\"Band 8 Information Gain(3-Equal Width) = \",InfoGain(data,'3_equal_width_8',60))"
   ]
  },
  {
   "cell_type": "markdown",
   "metadata": {},
   "source": [
    "### 4-Equal Width (Dividing the data into 4 intervals of equal size)"
   ]
  },
  {
   "cell_type": "markdown",
   "metadata": {},
   "source": [
    "#### For Band 5 Variable"
   ]
  },
  {
   "cell_type": "code",
   "execution_count": 31,
   "metadata": {},
   "outputs": [
    {
     "name": "stdout",
     "output_type": "stream",
     "text": [
      "0.093\n"
     ]
    },
    {
     "data": {
      "image/png": "[encoded data removed]",
      "text/plain": [
       "<Figure size 432x288 with 1 Axes>"
      ]
     },
     "metadata": {
      "needs_background": "light"
     },
     "output_type": "display_data"
    }
   ],
   "source": [
    "# 4-Equal Width\n",
    "width = (X[5].max()-X[5].min())/4\n",
    "print(width)\n",
    "\n",
    "bin_range = [0, 0.1, 0.2, 0.3, 0.4]\n",
    "data['4_equal_width_5'] = pd.cut(np.array(X[5]),bins=bin_range,labels=['1', '2', '3','4']).astype(str)\n",
    "\n",
    "plt.hist(X[5], bins=bin_range,rwidth=0.5)\n",
    "plt.title('4-Equal Width for 5')\n",
    "plt.ylabel('No of times')\n",
    "plt.show()"
   ]
  },
  {
   "cell_type": "code",
   "execution_count": 32,
   "metadata": {},
   "outputs": [
    {
     "name": "stdout",
     "output_type": "stream",
     "text": [
      "Band 5 Information Gain(4-Equal Width) =  0.06106532996313474\n"
     ]
    }
   ],
   "source": [
    "print(\"Band 5 Information Gain(4-Equal Width) = \",InfoGain(data,'4_equal_width_5',60))"
   ]
  },
  {
   "cell_type": "markdown",
   "metadata": {},
   "source": [
    "#### For Band 6 Variable"
   ]
  },
  {
   "cell_type": "code",
   "execution_count": 33,
   "metadata": {
    "scrolled": false
   },
   "outputs": [
    {
     "name": "stdout",
     "output_type": "stream",
     "text": [
      "0.0925\n"
     ]
    }
   ],
   "source": [
    "# 4-Equal Width\n",
    "width = (X[6].max()-X[6].min())/4\n",
    "print(width)\n",
    "bin_range = [0, 0.1, 0.2, 0.3, 0.4]\n",
    "#bin_range = [0, 0.124, 0.248, 0.372]"
   ]
  },
  {
   "cell_type": "code",
   "execution_count": 34,
   "metadata": {
    "scrolled": true
   },
   "outputs": [
    {
     "name": "stdout",
     "output_type": "stream",
     "text": [
      "Band 6 Information Gain(4-Equal Width) =  0.01084032522410927\n"
     ]
    }
   ],
   "source": [
    "data['4_equal_width_6'] = pd.cut(np.array(X[6]),bins=bin_range,labels=['1', '2', '3','4']).astype(str)\n",
    "print(\"Band 6 Information Gain(4-Equal Width) = \",InfoGain(data,'4_equal_width_6',60))"
   ]
  },
  {
   "cell_type": "markdown",
   "metadata": {},
   "source": [
    "#### For Band 7 Variable"
   ]
  },
  {
   "cell_type": "code",
   "execution_count": 35,
   "metadata": {},
   "outputs": [
    {
     "name": "stdout",
     "output_type": "stream",
     "text": [
      "0.11324999999999999\n"
     ]
    }
   ],
   "source": [
    "# 4-Equal Width\n",
    "width = (X[7].max()-X[7].min())/4\n",
    "print(width)\n",
    "bin_range = [0, 0.1, 0.2, 0.3, 0.4]"
   ]
  },
  {
   "cell_type": "code",
   "execution_count": 36,
   "metadata": {},
   "outputs": [
    {
     "name": "stdout",
     "output_type": "stream",
     "text": [
      "Band 7 Information Gain(4-Equal Width) =  0.04567023149037863\n"
     ]
    }
   ],
   "source": [
    "data['4_equal_width_7'] = pd.cut(np.array(X[7]),bins=bin_range,labels=['1', '2', '3','4']).astype(str)\n",
    "print(\"Band 7 Information Gain(4-Equal Width) = \",InfoGain(data,'4_equal_width_7',60))"
   ]
  },
  {
   "cell_type": "markdown",
   "metadata": {},
   "source": [
    "#### For Band 8 Variable"
   ]
  },
  {
   "cell_type": "code",
   "execution_count": 37,
   "metadata": {},
   "outputs": [
    {
     "name": "stdout",
     "output_type": "stream",
     "text": [
      "0.16874999999999998\n"
     ]
    }
   ],
   "source": [
    "# 4-Equal Width\n",
    "width = (X[8].max()-X[8].min())/4\n",
    "print(width)\n",
    "bin_range = [0, 0.17, 0.34, 0.51,0.68]"
   ]
  },
  {
   "cell_type": "code",
   "execution_count": 38,
   "metadata": {},
   "outputs": [
    {
     "name": "stdout",
     "output_type": "stream",
     "text": [
      "Band 8 Information Gain(4-Equal Width) =  0.10766333547824525\n"
     ]
    }
   ],
   "source": [
    "data['4_equal_width_8'] = pd.cut(np.array(X[8]),bins=bin_range,labels=['1', '2', '3','4']).astype(str)\n",
    "print(\"Band 8 Information Gain(4-Equal Width) = \",InfoGain(data,'4_equal_width_8',60))"
   ]
  }
 ],
 "metadata": {
  "kernelspec": {
   "display_name": "Python [conda env:my_env] *",
   "language": "python",
   "name": "conda-env-my_env-py"
  },
  "language_info": {
   "codemirror_mode": {
    "name": "ipython",
    "version": 3
   },
   "file_extension": ".py",
   "mimetype": "text/x-python",
   "name": "python",
   "nbconvert_exporter": "python",
   "pygments_lexer": "ipython3",
   "version": "3.7.3"
  }
 },
 "nbformat": 4,
 "nbformat_minor": 2
}
