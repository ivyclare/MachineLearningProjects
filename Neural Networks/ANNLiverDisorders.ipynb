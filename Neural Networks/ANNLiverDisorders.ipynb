{
 "cells": [
  {
   "cell_type": "markdown",
   "metadata": {},
   "source": [
    "# Classification on Liver Disorders Dataset with Artificial Neural Networks"
   ]
  },
  {
   "cell_type": "markdown",
   "metadata": {},
   "source": [
    "1. Data Preprocessing and quick analysis\n",
    "2. Building ANN\n",
    "3. Making Predictions So let's get started!"
   ]
  },
  {
   "cell_type": "markdown",
   "metadata": {},
   "source": [
    "## 1. PreProcessing Dataset"
   ]
  },
  {
   "cell_type": "markdown",
   "metadata": {},
   "source": [
    "### Import Libraries  and Load the dataset"
   ]
  },
  {
   "cell_type": "code",
   "execution_count": 2,
   "metadata": {
    "scrolled": true
   },
   "outputs": [
    {
     "ename": "ModuleNotFoundError",
     "evalue": "No module named 'pandas'",
     "output_type": "error",
     "traceback": [
      "\u001b[0;31m---------------------------------------------------------------------------\u001b[0m",
      "\u001b[0;31mModuleNotFoundError\u001b[0m                       Traceback (most recent call last)",
      "\u001b[0;32m<ipython-input-2-7da9a81d0199>\u001b[0m in \u001b[0;36m<module>\u001b[0;34m\u001b[0m\n\u001b[1;32m      6\u001b[0m \u001b[0;32mimport\u001b[0m \u001b[0mpickle\u001b[0m\u001b[0;34m\u001b[0m\u001b[0;34m\u001b[0m\u001b[0m\n\u001b[1;32m      7\u001b[0m \u001b[0;32mimport\u001b[0m \u001b[0mnumpy\u001b[0m \u001b[0;32mas\u001b[0m \u001b[0mnp\u001b[0m\u001b[0;34m\u001b[0m\u001b[0;34m\u001b[0m\u001b[0m\n\u001b[0;32m----> 8\u001b[0;31m \u001b[0;32mimport\u001b[0m \u001b[0mpandas\u001b[0m \u001b[0;32mas\u001b[0m \u001b[0mpd\u001b[0m\u001b[0;34m\u001b[0m\u001b[0;34m\u001b[0m\u001b[0m\n\u001b[0m\u001b[1;32m      9\u001b[0m \u001b[0;32mimport\u001b[0m \u001b[0mseaborn\u001b[0m \u001b[0;32mas\u001b[0m \u001b[0msns\u001b[0m\u001b[0;34m\u001b[0m\u001b[0;34m\u001b[0m\u001b[0m\n\u001b[1;32m     10\u001b[0m \u001b[0;32mfrom\u001b[0m \u001b[0mkeras\u001b[0m\u001b[0;34m.\u001b[0m\u001b[0mmodels\u001b[0m \u001b[0;32mimport\u001b[0m \u001b[0mSequential\u001b[0m\u001b[0;34m\u001b[0m\u001b[0;34m\u001b[0m\u001b[0m\n",
      "\u001b[0;31mModuleNotFoundError\u001b[0m: No module named 'pandas'"
     ]
    }
   ],
   "source": [
    "# This Python 3 environment comes with many helpful analytics libraries installed\n",
    "# It is defined by the kaggle/python docker image: https://github.com/kaggle/docker-python\n",
    "# For example, here's several helpful packages to load in \n",
    "import math\n",
    "import random\n",
    "import pickle\n",
    "import numpy as np\n",
    "import pandas as pd\n",
    "import seaborn as sns\n",
    "from keras.models import Sequential\n",
    "from keras.layers import Dense\n",
    "from keras.wrappers.scikit_learn import KerasClassifier\n",
    "from keras.layers import Dense, Dropout\n",
    "from keras.utils import np_utils\n",
    "from sklearn.model_selection import cross_val_score\n",
    "from sklearn.model_selection import KFold\n",
    "from sklearn.preprocessing import LabelEncoder\n",
    "from sklearn.pipeline import Pipeline\n",
    "from sklearn.model_selection import cross_val_predict\n",
    "from sklearn.metrics import confusion_matrix\n",
    "from sklearn.metrics import classification_report\n",
    "from sklearn.preprocessing import StandardScaler\n",
    "from sklearn import svm\n",
    "import matplotlib.pyplot as plt\n",
    "import itertools\n",
    "import warnings\n",
    "warnings.filterwarnings(\"ignore\", category=FutureWarning)\n",
    "# load dataset\n",
    "dataset = pd.read_csv(\"bupa.csv\")\n",
    "\n",
    "#dataset.head()"
   ]
  },
  {
   "cell_type": "markdown",
   "metadata": {},
   "source": [
    "###  Initialize Random Number Generator"
   ]
  },
  {
   "cell_type": "code",
   "execution_count": 27,
   "metadata": {},
   "outputs": [],
   "source": [
    "# fix random seed for reproducibility\n",
    "seed = 7\n",
    "np.random.seed(seed)\n"
   ]
  },
  {
   "cell_type": "markdown",
   "metadata": {},
   "source": [
    "### Data Exploration and Data Quality"
   ]
  },
  {
   "cell_type": "code",
   "execution_count": 28,
   "metadata": {
    "scrolled": true
   },
   "outputs": [
    {
     "name": "stdout",
     "output_type": "stream",
     "text": [
      "Dataset Head\n",
      "   85  92  45  27  31  0.0  1\n",
      "0  85  64  59  32  23  0.0  2\n",
      "1  86  54  33  16  54  0.0  2\n",
      "2  91  78  34  24  36  0.0  2\n",
      "----------------------------------------------------------------------------------------------------\n",
      "Dataset Atrributes\n",
      "['85' '92' '45' '27' '31' '0.0' '1']\n",
      "----------------------------------------------------------------------------------------------------\n",
      "Dataset Numerical Features\n",
      "               85          92          45          27          31         0.0  \\\n",
      "count  344.000000  344.000000  344.000000  344.000000  344.000000  344.000000   \n",
      "mean    90.174419   69.805233   30.363372   24.636628   38.305233    3.465116   \n",
      "std      4.445830   18.335388   19.524790   10.078349   39.309824    3.337472   \n",
      "min     65.000000   23.000000    4.000000    5.000000    5.000000    0.000000   \n",
      "25%     87.000000   57.000000   19.000000   19.000000   15.000000    0.500000   \n",
      "50%     90.000000   67.000000   26.000000   23.000000   24.500000    3.000000   \n",
      "75%     93.000000   80.000000   34.000000   27.000000   46.250000    6.000000   \n",
      "max    103.000000  138.000000  155.000000   82.000000  297.000000   20.000000   \n",
      "\n",
      "                1  \n",
      "count  344.000000  \n",
      "mean     1.581395  \n",
      "std      0.494049  \n",
      "min      1.000000  \n",
      "25%      1.000000  \n",
      "50%      2.000000  \n",
      "75%      2.000000  \n",
      "max      2.000000  \n",
      "----------------------------------------------------------------------------------------------------\n",
      "Dataset Features Details\n",
      "<class 'pandas.core.frame.DataFrame'>\n",
      "RangeIndex: 344 entries, 0 to 343\n",
      "Data columns (total 7 columns):\n",
      "85     344 non-null int64\n",
      "92     344 non-null int64\n",
      "45     344 non-null int64\n",
      "27     344 non-null int64\n",
      "31     344 non-null int64\n",
      "0.0    344 non-null float64\n",
      "1      344 non-null int64\n",
      "dtypes: float64(1), int64(6)\n",
      "memory usage: 18.9 KB\n",
      "None\n",
      "----------------------------------------------------------------------------------------------------\n",
      "Check for Missing Values\n",
      "85     0\n",
      "92     0\n",
      "45     0\n",
      "27     0\n",
      "31     0\n",
      "0.0    0\n",
      "1      0\n",
      "dtype: int64\n",
      "----------------------------------------------------------------------------------------------------\n",
      "Number of Instances and Attributes\n",
      "(344, 7)\n",
      "----------------------------------------------------------------------------------------------------\n"
     ]
    }
   ],
   "source": [
    "#Method For Data Exporation\n",
    "\n",
    "def exploreData(dataframe):\n",
    "    # Preview dataset\n",
    "    print(\"Dataset Head\")\n",
    "    print(dataframe.head(3))\n",
    "    print(\"--\" * 50)\n",
    "    \n",
    "    # Features in dataset\n",
    "    print(\"Dataset Atrributes\")\n",
    "    print(dataframe.columns.values)\n",
    "    print(\"--\" * 50)\n",
    "    \n",
    "     # view distribution of numerical features across the data set\n",
    "    print(\"Dataset Numerical Features\")\n",
    "    print(dataframe.describe())\n",
    "    print(\"--\" * 50)\n",
    "    \n",
    "    # View How many samples and how many missing values for each feature\n",
    "    print(\"Dataset Features Details\")\n",
    "    print(dataframe.info())\n",
    "    print(\"--\" * 50)\n",
    "    \n",
    "    # view distribution of categorical features across the data set\n",
    "#     print(\"Dataset Categorical Features\")\n",
    "#     print(dataframe.describe(include=['O']))\n",
    "#     print(\"--\" * 50)\n",
    "        \n",
    "    #Checking for missing values\n",
    "    print(\"Check for Missing Values\")\n",
    "    print(dataframe.isnull().sum())\n",
    "    print(\"--\" * 50)\n",
    "\n",
    "     #Get number of instances and number of attributes\n",
    "    print(\"Number of Instances and Attributes\")\n",
    "    print(dataframe.shape)\n",
    "    print(\"--\" * 50)\n",
    "    \n",
    "exploreData(dataset)\n",
    "# Distribution of Output Variable\n",
    "#dataset['diagnosis'].value_counts()"
   ]
  },
  {
   "cell_type": "markdown",
   "metadata": {},
   "source": [
    "### Observations and Fixes\n",
    "We have 345 instances of data with 7 columns(attributes).\n",
    "- All fields in our dataset are numeric\n",
    "- Our data does not contain any missing values. :) \n",
    "\n",
    "#### Aside\n",
    "In sum, for most problems, one could probably get decent performance (even without a second optimization step) by setting the hidden layer configuration using just two rules: (i) number of hidden layers equals one; and (ii) the number of neurons in that layer is the mean of the neurons in the input and output layers."
   ]
  },
  {
   "cell_type": "code",
   "execution_count": 40,
   "metadata": {},
   "outputs": [],
   "source": [
    "#Get all features \n",
    "#X = dataset.drop(['0.0'], axis=1)\n",
    "X = dataset.iloc[:,:6]\n",
    "#print(X[100:110])\n",
    "# Get second column which contains the outcomes(Benign and Malignant)\n",
    "y = dataset.iloc[:,6]"
   ]
  },
  {
   "cell_type": "markdown",
   "metadata": {},
   "source": [
    "### Encode Output"
   ]
  },
  {
   "cell_type": "code",
   "execution_count": 41,
   "metadata": {},
   "outputs": [
    {
     "name": "stdout",
     "output_type": "stream",
     "text": [
      "Before encoding: \n",
      "100    2\n",
      "101    1\n",
      "102    1\n",
      "103    1\n",
      "104    1\n",
      "105    1\n",
      "106    1\n",
      "107    1\n",
      "108    2\n",
      "109    2\n",
      "Name: 1, dtype: int64\n",
      "\n",
      "After encoding: \n",
      "[1 0 0 0 0 0 0 0 1 1]\n"
     ]
    }
   ],
   "source": [
    "# encode class values as integers\n",
    "print(\"Before encoding: \")\n",
    "print(y[100:110]) \n",
    "\n",
    "labelencoder_X_1 = LabelEncoder()\n",
    "y = labelencoder_X_1.fit_transform(y)\n",
    "\n",
    "print(\"\\nAfter encoding: \")\n",
    "print(y[100:110])"
   ]
  },
  {
   "cell_type": "code",
   "execution_count": 64,
   "metadata": {},
   "outputs": [
    {
     "data": {
      "image/png": "[encoded data removed]",
      "text/plain": [
       "<Figure size 432x288 with 1 Axes>"
      ]
     },
     "metadata": {
      "needs_background": "light"
     },
     "output_type": "display_data"
    },
    {
     "data": {
      "text/plain": [
       "<Figure size 432x288 with 0 Axes>"
      ]
     },
     "metadata": {},
     "output_type": "display_data"
    }
   ],
   "source": [
    "#Checking if data is unbalanced. Output is 60:40 hence not bad\n",
    "sns.countplot(x='1',data=dataset,palette='hls')\n",
    "plt.show()\n",
    "plt.savefig('count_plot')"
   ]
  },
  {
   "cell_type": "markdown",
   "metadata": {},
   "source": [
    "### Feature Scaling (To be edited)\n",
    "Now let's apply features scaling. Scaling ensures that just because some features are big, the model won't lead to using them as a main predictor"
   ]
  },
  {
   "cell_type": "code",
   "execution_count": 68,
   "metadata": {},
   "outputs": [],
   "source": [
    "#Feature Scaling\n",
    "sc = StandardScaler()\n",
    "X = sc.fit_transform(X)"
   ]
  },
  {
   "cell_type": "markdown",
   "metadata": {},
   "source": [
    "## 2. Build ANN"
   ]
  },
  {
   "cell_type": "markdown",
   "metadata": {},
   "source": [
    "### Define the neural network model\n",
    "\n",
    "input_dim - number of columns of the dataset\n",
    "\n",
    "output_dim - number of outputs to be fed to the next layer, if any\n",
    "\n",
    "activation - activation function which is ReLU in this case\n",
    "\n",
    "init - the way in which weights should be provided to an ANN"
   ]
  },
  {
   "cell_type": "code",
   "execution_count": 69,
   "metadata": {},
   "outputs": [],
   "source": [
    "# define baseline model\n",
    "def baseline_model():\n",
    "    # Initialising the ANN\n",
    "    model = Sequential()\n",
    "    # Adding the input layer and first hidden layer\n",
    "    model.add(Dense(8, kernel_initializer=\"uniform\", activation = 'relu', input_dim = 6))\n",
    "    # Adding dropout to prevent overfitting\n",
    "    model.add(Dropout(rate = 0.1))\n",
    "    \n",
    "    # Adding the second hidden layer\n",
    "    model.add(Dense(8, kernel_initializer=\"uniform\", activation = 'relu'))\n",
    "    # Adding dropout to prevent overfitting\n",
    "    model.add(Dropout(rate = 0.1))\n",
    "    \n",
    "    # Adding the second hidden layer\n",
    "    model.add(Dense(8, kernel_initializer=\"uniform\", activation = 'relu'))\n",
    "    # Adding dropout to prevent overfitting\n",
    "    model.add(Dropout(rate = 0.1))\n",
    "    \n",
    "    # Adding the second hidden layer\n",
    "    model.add(Dense(8, kernel_initializer=\"uniform\", activation = 'relu'))\n",
    "    # Adding dropout to prevent overfitting\n",
    "    model.add(Dropout(rate = 0.1))\n",
    "    \n",
    "    # Adding the second hidden layer\n",
    "    model.add(Dense(8, kernel_initializer=\"uniform\", activation = 'relu'))\n",
    "    # Adding dropout to prevent overfitting\n",
    "    model.add(Dropout(rate = 0.1))\n",
    "    \n",
    "    # Adding the output layer\n",
    "    #classifier.add(Dense(2, init='uniform', activation='sigmoid'))\n",
    "    model.add(Dense(1, kernel_initializer=\"uniform\", activation = 'sigmoid'))\n",
    "    \n",
    "    # Compile model\n",
    "    model.compile(loss='binary_crossentropy', optimizer='adam', metrics=['accuracy'])\n",
    "    return model\n",
    "\n",
    "# Creating our KerasClassifier for use in scikit-learn\n",
    "estimator = KerasClassifier(build_fn=baseline_model, epochs=200, batch_size=5, verbose=0)"
   ]
  },
  {
   "cell_type": "markdown",
   "metadata": {},
   "source": [
    "### Performing k-fold cross validation"
   ]
  },
  {
   "cell_type": "code",
   "execution_count": 70,
   "metadata": {},
   "outputs": [],
   "source": [
    "kfold = KFold(n_splits=10, shuffle=True, random_state=seed)"
   ]
  },
  {
   "cell_type": "markdown",
   "metadata": {},
   "source": [
    "### Evaluating the model with k-fold cross validation"
   ]
  },
  {
   "cell_type": "code",
   "execution_count": 71,
   "metadata": {},
   "outputs": [
    {
     "name": "stdout",
     "output_type": "stream",
     "text": [
      "Accuracy: 58.11% (5.48%)\n"
     ]
    }
   ],
   "source": [
    "#Evaluating out estimator on our dataset using 10-fold cross valiation\n",
    "results = cross_val_score(estimator, X, y, cv=kfold)\n",
    "print(\"Accuracy: %.2f%% (%.2f%%)\" % (results.mean()*100, results.std()*100))"
   ]
  },
  {
   "cell_type": "code",
   "execution_count": 72,
   "metadata": {},
   "outputs": [
    {
     "name": "stdout",
     "output_type": "stream",
     "text": [
      "Accuracy: 58.11% (5.48%)\n"
     ]
    }
   ],
   "source": [
    "accuracy = results.mean()*100\n",
    "error = results.std()*100\n",
    "print(\"Accuracy: %.2f%% (%.2f%%)\" % (accuracy, error))"
   ]
  },
  {
   "cell_type": "markdown",
   "metadata": {},
   "source": [
    "### Getting the confusion matrix"
   ]
  },
  {
   "cell_type": "code",
   "execution_count": 56,
   "metadata": {},
   "outputs": [
    {
     "name": "stdout",
     "output_type": "stream",
     "text": [
      "[[ 78  66]\n",
      " [ 50 150]]\n",
      "             precision    recall  f1-score   support\n",
      "\n",
      "          0       0.61      0.54      0.57       144\n",
      "          1       0.69      0.75      0.72       200\n",
      "\n",
      "avg / total       0.66      0.66      0.66       344\n",
      "\n"
     ]
    }
   ],
   "source": [
    "#Get our result predictions \n",
    "y_pred = cross_val_predict(estimator, X, y, cv=kfold)\n",
    "#Get our confusion matrix\n",
    "conf_mat = confusion_matrix(y, y_pred)\n",
    "class_report = classification_report(y,y_pred)\n",
    "print(conf_mat)\n",
    "print(class_report)"
   ]
  },
  {
   "cell_type": "markdown",
   "metadata": {},
   "source": [
    "### Transforming to a plot"
   ]
  },
  {
   "cell_type": "code",
   "execution_count": 58,
   "metadata": {},
   "outputs": [
    {
     "name": "stdout",
     "output_type": "stream",
     "text": [
      "66.27906976744185\n",
      "54.166666666666664\n",
      "75.0\n"
     ]
    }
   ],
   "source": [
    "#Getting Accuracy, Specificity and Sensitivity from the confusion matrix\n",
    "total1=sum(sum(conf_mat))\n",
    "#Accuracy\n",
    "#accuracy=((conf_mat[0,0]+conf_mat[1,1])/total1)*100\n",
    "\n",
    "#accuracy = np.diag(conf_mat) / np.sum(conf_mat, axis = 0)\n",
    "#Sensitivity\n",
    "sensitivity = conf_mat[0,0]/(conf_mat[0,0]+conf_mat[0,1])*100\n",
    "#sensitivity = np.diag(conf_mat) / np.sum(conf_mat, axis = 1)\n",
    "#Specificity\n",
    "specificity = conf_mat[1,1]/(conf_mat[1,0]+conf_mat[1,1])*100\n",
    "\n",
    "print(accuracy)\n",
    "print(sensitivity)\n",
    "print(specificity)\n",
    "#print(\"[{} {} {}]\".format(round(specificity1, 2), round(specificity2, 2),round(specificity3, 2)))"
   ]
  },
  {
   "cell_type": "code",
   "execution_count": 61,
   "metadata": {},
   "outputs": [
    {
     "data": {
      "image/png": "[encoded data removed]",
      "text/plain": [
       "<Figure size 396x288 with 2 Axes>"
      ]
     },
     "metadata": {
      "needs_background": "light"
     },
     "output_type": "display_data"
    }
   ],
   "source": [
    "# Transform to df for easier plotting\n",
    "cm_df = pd.DataFrame(conf_mat,\n",
    "                     index = ['M','B'], \n",
    "                     columns = ['M','B'])\n",
    "\n",
    "plt.figure(figsize=(5.5,4))\n",
    "sns.heatmap(cm_df, annot=True)\n",
    "plt.title('Liver Disorder Dataset Confusion Matrx\\nAccuracy: %.2f%% (%.2f%%)' % (results.mean()*100, results.std()*100))\n",
    "plt.ylabel('True label')\n",
    "plt.xlabel('Predicted label')\n",
    "plt.figtext(1.30, 0.01, 'Accuracy: {}%\\n Sensitivity: {}\\n Specificity: {} '.format(round(accuracy, 2),round(sensitivity, 2),round(specificity, 2)), horizontalalignment='right')\n",
    "plt.show()"
   ]
  },
  {
   "cell_type": "code",
   "execution_count": null,
   "metadata": {},
   "outputs": [],
   "source": []
  },
  {
   "cell_type": "code",
   "execution_count": null,
   "metadata": {},
   "outputs": [],
   "source": []
  }
 ],
 "metadata": {
  "kernelspec": {
   "display_name": "Python 3",
   "language": "python",
   "name": "python3"
  },
  "language_info": {
   "codemirror_mode": {
    "name": "ipython",
    "version": 3
   },
   "file_extension": ".py",
   "mimetype": "text/x-python",
   "name": "python",
   "nbconvert_exporter": "python",
   "pygments_lexer": "ipython3",
   "version": "3.6.7"
  }
 },
 "nbformat": 4,
 "nbformat_minor": 2
}
