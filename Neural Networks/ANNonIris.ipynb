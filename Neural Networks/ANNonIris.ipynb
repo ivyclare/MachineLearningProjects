{
 "cells": [
  {
   "cell_type": "markdown",
   "metadata": {},
   "source": [
    "# Classification on Iris Dataset with Artificial Neural Networks"
   ]
  },
  {
   "cell_type": "markdown",
   "metadata": {},
   "source": [
    "### Import Classes and Functions"
   ]
  },
  {
   "cell_type": "code",
   "execution_count": 9,
   "metadata": {
    "scrolled": true
   },
   "outputs": [],
   "source": [
    "import numpy as np\n",
    "import pandas as pd\n",
    "import seaborn as sns\n",
    "from keras.models import Sequential\n",
    "from keras.layers import  Dense, Dropout\n",
    "from keras.wrappers.scikit_learn import KerasClassifier\n",
    "from keras.utils import np_utils\n",
    "from sklearn.model_selection import cross_val_score\n",
    "from sklearn.model_selection import KFold\n",
    "from sklearn.preprocessing import LabelEncoder\n",
    "from sklearn.pipeline import Pipeline\n",
    "from sklearn.model_selection import cross_val_predict\n",
    "from sklearn.metrics import confusion_matrix\n",
    "from sklearn.metrics import classification_report\n",
    "from sklearn.preprocessing import StandardScaler\n",
    "from sklearn import svm\n",
    "import matplotlib.pyplot as plt\n",
    "import itertools\n",
    "sns.set(style=\"white\") #white background style for seaborn plots\n",
    "sns.set(style=\"whitegrid\", color_codes=True)"
   ]
  },
  {
   "cell_type": "markdown",
   "metadata": {},
   "source": [
    "###  Initialize Random Number Generator"
   ]
  },
  {
   "cell_type": "code",
   "execution_count": 10,
   "metadata": {},
   "outputs": [],
   "source": [
    "# fix random seed for reproducibility\n",
    "seed = 7\n",
    "np.random.seed(seed)\n"
   ]
  },
  {
   "cell_type": "markdown",
   "metadata": {},
   "source": [
    "### Load the dataset"
   ]
  },
  {
   "cell_type": "code",
   "execution_count": 11,
   "metadata": {},
   "outputs": [],
   "source": [
    "# load dataset\n",
    "dataframe = pd.read_csv(\"iris.csv\", header=None)\n",
    "dataset = dataframe.values\n",
    "X = dataset[:,0:4].astype(float)\n",
    "Y = dataset[:,4]\n"
   ]
  },
  {
   "cell_type": "markdown",
   "metadata": {},
   "source": [
    "### Data Exploration\n",
    "1) Outputs summary of data like mean,std, max.. Means are in the same order of magnitude for all features so scaling might not be beneficial.If mean values were of different orders of magnitude, scaling could significantly improve accuracy of a classifier.\n",
    "`dataframe.describe()`\n",
    "\n",
    "2) Outputs first 5 values in dataset\n",
    "`dataframe.head()`\n",
    "\n",
    "3) Dataframe.info gives basic information on data integrity (data types and detection of NaN values)\n",
    "`dataframe.info()`\n",
    "\n",
    "4) Inorder to see the number or rows and columns in the dataset(this data has 150 rows,5columns) \n",
    "`print(dataframe.shape`\n",
    "\n",
    "5) To see the column names\n",
    "`print(list(dataframe.columns))`\n",
    "\n",
    "6) For categorical attributes, you can see the attribute values by doing\n",
    "`dataframe['attribute_name'].unique()`\n",
    "\n",
    "### More Methods\n",
    "1) The number of each class for output values can be seen by using \n",
    "`dataframe['y]'.value_counts()`\n",
    "\n",
    "2) A histogram can be drawn to see the distribution of the data\n",
    "```python\n",
    " sns.countplot(x='y',data=dataframe,palette='hls')\n",
    " plt.show()\n",
    " plt.savefig('count_plot')\n",
    " ```\n",
    "3)Check missing values in train data\n",
    "`train_df.isnull().sum()`  \n",
    "\n",
    "4) If attribute age for example is missing, Percent of missing \"Age\" \n",
    "\n",
    "`print('Percent of missing \"Age\" records is %.2f%%' %((train_df['Age'].isnull().sum()/train_df.shape[0])*100))`\n",
    "\n",
    "## Data Integrity\n",
    "### Handling Missing Values\n",
    "Follow [this link](https://www.kaggle.com/mnassrib/titanic-logistic-regression-with-python) to see how missing values were handled with Titanic dataset\n",
    "\n",
    "### Checking for zero values and replacing by mean\n",
    "```python\n",
    "# Display how many 0 value each feature have\n",
    "for field in diabetes.columns[:8]:\n",
    "    print('Number of 0-entries for \"{field_name}\" feature: {amount}'.format(\n",
    "        field_name=field,\n",
    "        amount=np.count_nonzero(diabetes[field] == 0)\n",
    "    ))\n",
    "```\n",
    "Replace with mean\n",
    "```python\n",
    "# features_with_zeros = diabetes.columns[1:-1]\n",
    "    \n",
    "# diabetes[features_with_zeros] = diabetes[features_with_zeros].replace(0, np.nan)\n",
    "# diabetes[features_with_zeros] = diabetes[features_with_zeros].fillna(diabetes.mean())\n",
    "```"
   ]
  },
  {
   "cell_type": "markdown",
   "metadata": {},
   "source": [
    "### Encode Output"
   ]
  },
  {
   "cell_type": "code",
   "execution_count": 12,
   "metadata": {},
   "outputs": [],
   "source": [
    "# encode class values as integers\n",
    "encoder = LabelEncoder()\n",
    "encoder.fit(Y)\n",
    "encoded_Y = encoder.transform(Y)\n",
    "# convert integers to dummy variables (i.e. one hot encoded)\n",
    "dummy_y = np_utils.to_categorical(encoded_Y)"
   ]
  },
  {
   "cell_type": "markdown",
   "metadata": {},
   "source": [
    "#### Feature Scaling"
   ]
  },
  {
   "cell_type": "code",
   "execution_count": 25,
   "metadata": {},
   "outputs": [],
   "source": [
    "#Feature Scaling\n",
    "# sc = StandardScaler()\n",
    "# X = sc.fit_transform(X)"
   ]
  },
  {
   "cell_type": "markdown",
   "metadata": {},
   "source": [
    "### Define the neural network model"
   ]
  },
  {
   "cell_type": "code",
   "execution_count": 39,
   "metadata": {},
   "outputs": [],
   "source": [
    "# define baseline model\n",
    "def baseline_model():\n",
    "    # create model\n",
    "    model = Sequential()\n",
    "    model.add(Dense(4, input_dim=4, activation='relu'))\n",
    "    # Adding dropout to prevent overfitting\n",
    "    model.add(Dropout(rate = 0.1))\n",
    "    model.add(Dense(3, activation='softmax'))\n",
    "    # Compile model\n",
    "    model.compile(loss='categorical_crossentropy', optimizer='adam', metrics=['accuracy'])\n",
    "    return model\n",
    "\n",
    "# Creating our KerasClassifier for use in scikit-learn\n",
    "estimator = KerasClassifier(build_fn=baseline_model, epochs=200, batch_size=5, verbose=0)"
   ]
  },
  {
   "cell_type": "markdown",
   "metadata": {},
   "source": [
    "### Performing k-fold cross validation"
   ]
  },
  {
   "cell_type": "code",
   "execution_count": 40,
   "metadata": {},
   "outputs": [],
   "source": [
    "kfold = KFold(n_splits=10, shuffle=True, random_state=seed)"
   ]
  },
  {
   "cell_type": "markdown",
   "metadata": {},
   "source": [
    "### Evaluating the model with k-fold cross validation"
   ]
  },
  {
   "cell_type": "code",
   "execution_count": 41,
   "metadata": {},
   "outputs": [
    {
     "name": "stdout",
     "output_type": "stream",
     "text": [
      "Accuracy: 95.33% (5.21%)\n"
     ]
    }
   ],
   "source": [
    "#Evaluating out estimator on our dataset using 10-fold cross valiation\n",
    "results = cross_val_score(estimator, X, dummy_y, cv=kfold)\n",
    "print(\"Accuracy: %.2f%% (%.2f%%)\" % (results.mean()*100, results.std()*100))"
   ]
  },
  {
   "cell_type": "markdown",
   "metadata": {},
   "source": [
    "### Getting the confusion matrix"
   ]
  },
  {
   "cell_type": "code",
   "execution_count": 8,
   "metadata": {},
   "outputs": [
    {
     "name": "stdout",
     "output_type": "stream",
     "text": [
      "[[50  0  0]\n",
      " [ 0 47  3]\n",
      " [ 0  1 49]]\n",
      "                 precision    recall  f1-score   support\n",
      "\n",
      "    Iris-setosa       1.00      1.00      1.00        50\n",
      "Iris-versicolor       0.98      0.94      0.96        50\n",
      " Iris-virginica       0.94      0.98      0.96        50\n",
      "\n",
      "    avg / total       0.97      0.97      0.97       150\n",
      "\n"
     ]
    }
   ],
   "source": [
    "#Get our result predictions \n",
    "y_pred = cross_val_predict(estimator, X, Y, cv=kfold)\n",
    "#Get our confusion matrix\n",
    "conf_mat = confusion_matrix(Y, y_pred)\n",
    "class_report = classification_report(Y,y_pred)\n",
    "print(conf_mat)\n",
    "print(class_report)"
   ]
  },
  {
   "cell_type": "markdown",
   "metadata": {},
   "source": [
    "### Transforming to a plot"
   ]
  },
  {
   "cell_type": "code",
   "execution_count": 9,
   "metadata": {},
   "outputs": [
    {
     "name": "stdout",
     "output_type": "stream",
     "text": [
      "97.33333333333334\n",
      "[1.   0.94 0.98]\n",
      "[1.0 0.97 0.99]\n"
     ]
    }
   ],
   "source": [
    "#Getting Accuracy, Specificity and Sensitivity from the confusion matrix\n",
    "total1=sum(sum(conf_mat))\n",
    "#Accuracy\n",
    "accuracy=((conf_mat[0,0]+conf_mat[1,1]+conf_mat[2,2])/total1)*100\n",
    "precision = np.diag(conf_mat) / np.sum(conf_mat, axis = 0)\n",
    "#Sensitivity\n",
    "sensitivity = np.diag(conf_mat) / np.sum(conf_mat, axis = 1)\n",
    "#Specificity\n",
    "#specificity1 = cm1[1,1]/(cm1[1,0]+cm1[1,1])\n",
    "\n",
    "specificity1 = (conf_mat[1,1] + conf_mat[1,2] + conf_mat[2,1] + conf_mat[2,2]) / (conf_mat[0,1]+conf_mat[0,2]+conf_mat[1,1] + conf_mat[1,2] + conf_mat[2,1] + conf_mat[2,2])\n",
    "\n",
    "specificity2 = (conf_mat[0,0] + conf_mat[0,2] + conf_mat[2,1] + conf_mat[2,2]) / (conf_mat[1,0]+conf_mat[1,2]+conf_mat[0,0] + conf_mat[0,2] + conf_mat[2,1] + conf_mat[2,2])\n",
    "\n",
    "specificity3 = (conf_mat[0,0] + conf_mat[0,1] + conf_mat[1,0] + conf_mat[1,1]) / (conf_mat[2,0]+conf_mat[2,1]+conf_mat[0,0] + conf_mat[0,1] + conf_mat[1,0] + conf_mat[1,1])\n",
    "\n",
    "\n",
    "print(accuracy)\n",
    "print(sensitivity)\n",
    "print(\"[{} {} {}]\".format(round(specificity1, 2), round(specificity2, 2),round(specificity3, 2)))"
   ]
  },
  {
   "cell_type": "code",
   "execution_count": 10,
   "metadata": {
    "scrolled": true
   },
   "outputs": [
    {
     "data": {
      "image/png": "[encoded data removed]",
      "text/plain": [
       "<Figure size 396x288 with 2 Axes>"
      ]
     },
     "metadata": {
      "needs_background": "light"
     },
     "output_type": "display_data"
    }
   ],
   "source": [
    "# Transform to df for easier plotting\n",
    "cm_df = pd.DataFrame(conf_mat,\n",
    "                     index = ['setosa','versicolor','virginica'], \n",
    "                     columns = ['setosa','versicolor','virginica'])\n",
    "\n",
    "plt.figure(figsize=(5.5,4))\n",
    "sns.heatmap(cm_df, annot=True)\n",
    "plt.title('IRIS Dataset Confusion Matrx\\nAccuracy: %.2f%% (%.2f%%)' % (results.mean()*100, results.std()*100))\n",
    "plt.ylabel('True label')\n",
    "plt.xlabel('Predicted label')\n",
    "plt.figtext(1.30, 0.01, 'Accuracy: {}%\\n Sensitivity: {}\\n Specificity: [{} {} {}] '.format(round(accuracy, 2),sensitivity,round(specificity1, 2), round(specificity2, 2),round(specificity3, 2)), horizontalalignment='right')\n",
    "plt.show()"
   ]
  },
  {
   "cell_type": "code",
   "execution_count": null,
   "metadata": {},
   "outputs": [],
   "source": []
  },
  {
   "cell_type": "code",
   "execution_count": null,
   "metadata": {},
   "outputs": [],
   "source": []
  }
 ],
 "metadata": {
  "kernelspec": {
   "display_name": "Python 3",
   "language": "python",
   "name": "python3"
  },
  "language_info": {
   "codemirror_mode": {
    "name": "ipython",
    "version": 3
   },
   "file_extension": ".py",
   "mimetype": "text/x-python",
   "name": "python",
   "nbconvert_exporter": "python",
   "pygments_lexer": "ipython3",
   "version": "3.6.7"
  }
 },
 "nbformat": 4,
 "nbformat_minor": 2
}
